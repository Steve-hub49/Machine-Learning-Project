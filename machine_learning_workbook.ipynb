{
 "cells": [
  {
   "cell_type": "code",
   "execution_count": null,
   "metadata": {},
   "outputs": [],
   "source": [
    "import numpy as np\n",
    "import pandas as pd\n",
    "\n",
    "# final version will read from the database and use environment variables\n",
    "df = pd.read_csv('insurance_claims.csv', na_values=['?'])\n",
    "# remove one row (of 1,000) with negative umbrella policy limit\n",
    "df = df[df['umbrella_limit'] >= 0]"
   ]
  },
  {
   "cell_type": "code",
   "execution_count": null,
   "metadata": {},
   "outputs": [],
   "source": [
    "# machine learning code here\n",
    "print(df.isna().sum())\n",
    "y = df['fraud_reported']\n",
    "X = df.drop(columns = ['fraud_reported'])"
   ]
  },
  {
   "cell_type": "code",
   "execution_count": null,
   "metadata": {},
   "outputs": [],
   "source": [
    "total_count = df.shape[0]\n",
    "fraud_count = df[(df['fraud_reported'] == 'Y')].shape[0]\n",
    "umbrella_count = df[(df['umbrella_limit'] > 0)].shape[0]\n",
    "fraudumbrella_count = df[(df['fraud_reported'] == 'Y') & (df['umbrella_limit'] > 0)].shape[0]\n",
    "fraudnonumbrella_count = df[(df['fraud_reported'] == 'Y') & (df['umbrella_limit'] == 0)].shape[0]\n",
    "print(f'fraud % of total: {100*fraud_count / total_count}') \n",
    "print(f'umbrella % of total: {100*umbrella_count / total_count}')\n",
    "print(f'fraud % of umbrella: {100*fraudumbrella_count / umbrella_count}')\n",
    "print(f'fraud % of non-umbrella: {100*fraudnonumbrella_count / (total_count - umbrella_count)}')"
   ]
  },
  {
   "cell_type": "code",
   "execution_count": null,
   "metadata": {},
   "outputs": [],
   "source": [
    "# The following values were very evenly distributed, e.g., three states about 1/3 each:\n",
    "# umbrella_limit = fraudumbrella['umbrella_limit'].value_counts()\n",
    "# state = X['policy_state'].value_counts()\n",
    "# csl = X['policy_csl'].value_counts()\n",
    "# deductable = X['policy_deductable'].value_counts()"
   ]
  },
  {
   "cell_type": "code",
   "execution_count": null,
   "metadata": {},
   "outputs": [],
   "source": []
  },
  {
   "cell_type": "code",
   "execution_count": null,
   "metadata": {},
   "outputs": [],
   "source": []
  },
  {
   "cell_type": "code",
   "execution_count": null,
   "metadata": {},
   "outputs": [],
   "source": []
  }
 ],
 "metadata": {
  "kernelspec": {
   "display_name": "Python 3",
   "language": "python",
   "name": "python3"
  },
  "language_info": {
   "codemirror_mode": {
    "name": "ipython",
    "version": 3
   },
   "file_extension": ".py",
   "mimetype": "text/x-python",
   "name": "python",
   "nbconvert_exporter": "python",
   "pygments_lexer": "ipython3",
   "version": "3.6.10"
  }
 },
 "nbformat": 4,
 "nbformat_minor": 4
}

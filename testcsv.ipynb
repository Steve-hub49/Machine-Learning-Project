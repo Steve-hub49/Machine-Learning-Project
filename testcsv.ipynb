{
 "metadata": {
  "language_info": {
   "codemirror_mode": {
    "name": "ipython",
    "version": 3
   },
   "file_extension": ".py",
   "mimetype": "text/x-python",
   "name": "python",
   "nbconvert_exporter": "python",
   "pygments_lexer": "ipython3",
   "version": "3.6.10-final"
  },
  "orig_nbformat": 2,
  "kernelspec": {
   "name": "python3",
   "display_name": "Python 3",
   "language": "python"
  }
 },
 "nbformat": 4,
 "nbformat_minor": 2,
 "cells": [
  {
   "cell_type": "code",
   "execution_count": null,
   "metadata": {},
   "outputs": [],
   "source": [
    "# start ML code here\n",
    "# classification approach, so look at random forest, decision tree... which factors (columns) will be fed into ML algorithm as predictors?\n",
    "# supervised learning is where you know what results will be... fraud y/n already in dataset... once defined, pretty boilerplate from class examples shared \n",
    "# do test/train split into 70% training data / 30% testing data\n",
    "# after test/train split, feed training data into model\n",
    "# RF has a way to show feature importance, DT will show score (see slack links)\n",
    "# will then see prediction results"
   ]
  }
 ]
}